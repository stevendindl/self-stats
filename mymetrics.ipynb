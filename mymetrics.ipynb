{
 "cells": [
  {
   "cell_type": "markdown",
   "id": "52f3ec31-00d1-4ff7-9dbe-128b4bfbd99d",
   "metadata": {},
   "source": [
    "# Analyzing work productivity metrics\n",
    "## Using Juypter + Pandas\n"
   ]
  },
  {
   "cell_type": "code",
   "execution_count": 1,
   "id": "bde66a6a-34e5-46a1-affd-1d0275e1aa66",
   "metadata": {},
   "outputs": [],
   "source": [
    "import pandas as pd"
   ]
  },
  {
   "cell_type": "code",
   "execution_count": null,
   "id": "cdcf8634-828e-44ca-92c6-85a2f1fc14a7",
   "metadata": {},
   "outputs": [],
   "source": []
  },
  {
   "cell_type": "code",
   "execution_count": null,
   "id": "32c2d93a-edc3-4dbe-bf04-c9a7d101ed26",
   "metadata": {},
   "outputs": [],
   "source": []
  },
  {
   "cell_type": "code",
   "execution_count": null,
   "id": "474e309e-a77b-4aad-a098-260262f9717a",
   "metadata": {},
   "outputs": [],
   "source": []
  }
 ],
 "metadata": {
  "kernelspec": {
   "display_name": "venv",
   "language": "python",
   "name": "python3"
  },
  "language_info": {
   "codemirror_mode": {
    "name": "ipython",
    "version": 3
   },
   "file_extension": ".py",
   "mimetype": "text/x-python",
   "name": "python",
   "nbconvert_exporter": "python",
   "pygments_lexer": "ipython3",
   "version": "3.11.8"
  }
 },
 "nbformat": 4,
 "nbformat_minor": 5
}
